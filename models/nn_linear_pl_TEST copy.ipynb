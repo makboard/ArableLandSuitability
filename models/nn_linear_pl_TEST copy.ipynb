{
 "cells": [
  {
   "cell_type": "code",
   "execution_count": 1,
   "metadata": {},
   "outputs": [],
   "source": [
    "import os\n",
    "import pickle\n",
    "import random\n",
    "import sys\n",
    "import warnings\n",
    "\n",
    "sys.path.append(os.path.join(\"..\"))\n",
    "\n",
    "import pytorch_lightning as pl\n",
    "import torch\n",
    "from src.model_utils import custom_multiclass_report, CroplandDataModule_MLP, Crop_MLP, Crop_PL\n",
    "from pytorch_lightning.callbacks import LearningRateMonitor\n",
    "from pytorch_lightning.callbacks.early_stopping import EarlyStopping\n",
    "from torch import nn\n",
    "from torch.utils.data import DataLoader, TensorDataset\n",
    "import torch.nn.functional as F\n",
    "\n",
    "torch.set_float32_matmul_precision('medium')"
   ]
  },
  {
   "cell_type": "code",
   "execution_count": 39,
   "metadata": {},
   "outputs": [
    {
     "data": {
      "text/plain": [
       "(10764884, 10, 12)"
      ]
     },
     "execution_count": 39,
     "metadata": {},
     "output_type": "execute_result"
    }
   ],
   "source": [
    "X['Train'][0].shape"
   ]
  },
  {
   "cell_type": "code",
   "execution_count": 13,
   "metadata": {},
   "outputs": [
    {
     "data": {
      "text/plain": [
       "torch.Size([10764884, 12, 10])"
      ]
     },
     "execution_count": 13,
     "metadata": {},
     "output_type": "execute_result"
    }
   ],
   "source": [
    "torch.tensor(X['Train'][0]).permute(0, 2, 1).shape"
   ]
  },
  {
   "cell_type": "code",
   "execution_count": 38,
   "metadata": {},
   "outputs": [],
   "source": [
    "transformer_enc = nn.TransformerEncoder(nn.TransformerEncoderLayer(\n",
    "            d_model=10,\n",
    "            nhead=5,\n",
    "            dim_feedforward=128,\n",
    "            dropout=0.2,\n",
    "            activation=\"gelu\",\n",
    "            batch_first=True,\n",
    "        ), num_layers=4)"
   ]
  },
  {
   "cell_type": "code",
   "execution_count": 25,
   "metadata": {},
   "outputs": [],
   "source": [
    "embedding = torch.FloatTensor(X['Train'][0]).permute(0, 2, 1)"
   ]
  },
  {
   "cell_type": "code",
   "execution_count": 29,
   "metadata": {},
   "outputs": [
    {
     "data": {
      "text/plain": [
       "torch.Size([128, 12, 10])"
      ]
     },
     "execution_count": 29,
     "metadata": {},
     "output_type": "execute_result"
    }
   ],
   "source": [
    "transformer_enc(embedding[:128])"
   ]
  },
  {
   "cell_type": "code",
   "execution_count": 30,
   "metadata": {},
   "outputs": [
    {
     "data": {
      "text/plain": [
       "torch.Size([128, 120])"
      ]
     },
     "execution_count": 30,
     "metadata": {},
     "output_type": "execute_result"
    }
   ],
   "source": [
    "nn.Flatten()(transformer_enc(embedding[:128])).shape"
   ]
  },
  {
   "cell_type": "code",
   "execution_count": 2,
   "metadata": {},
   "outputs": [
    {
     "name": "stdout",
     "output_type": "stream",
     "text": [
      "Number of CUDA devices available: 4\n",
      "Device 0: Quadro RTX 8000, Compute Capability: 7.5\n",
      "Device 1: Quadro RTX 8000, Compute Capability: 7.5\n",
      "Device 2: NVIDIA GeForce RTX 3060, Compute Capability: 8.6\n",
      "Device 3: NVIDIA GeForce RTX 3060, Compute Capability: 8.6\n"
     ]
    }
   ],
   "source": [
    "num_cuda_devices = torch.cuda.device_count()\n",
    "print(f\"Number of CUDA devices available: {num_cuda_devices}\")\n",
    "\n",
    "for i in range(num_cuda_devices):\n",
    "    device = torch.device(f'cuda:{i}')\n",
    "    properties = torch.cuda.get_device_properties(device)\n",
    "    print(f\"Device {i}: {properties.name}, Compute Capability: {properties.major}.{properties.minor}\")"
   ]
  },
  {
   "cell_type": "code",
   "execution_count": 3,
   "metadata": {},
   "outputs": [],
   "source": [
    "class Crop_MLP(nn.Module):\n",
    "    \"\"\"\n",
    "    A multi-layer perceptron (MLP) used for crop classification.\n",
    "\n",
    "    Args:\n",
    "        input_size (int): The number of input features (default: 164).\n",
    "        output_size (int): The number of output logits (default: 4).\n",
    "\n",
    "    Inputs:\n",
    "        X (torch.Tensor): A tensor of shape (batch_size, input_size) containing input data.\n",
    "\n",
    "    Returns:\n",
    "        torch.Tensor: A tensor of shape (batch_size, output_size) containing the output logits.\n",
    "    \"\"\"\n",
    "\n",
    "    def __init__(self, input_size=164, output_size=4) -> None:\n",
    "        super(Crop_MLP, self).__init__()\n",
    "\n",
    "        self.net = nn.Sequential(\n",
    "            nn.Linear(input_size, 2 * input_size),\n",
    "            nn.BatchNorm1d(2 * input_size),\n",
    "            nn.LeakyReLU(),\n",
    "            nn.Dropout(0.7),\n",
    "            nn.Linear(2 * input_size,  input_size),\n",
    "            nn.BatchNorm1d(input_size),\n",
    "            nn.LeakyReLU(),\n",
    "            nn.Dropout(0.3),\n",
    "            nn.Linear(input_size, input_size // 2),\n",
    "            nn.BatchNorm1d(input_size // 2),\n",
    "            nn.LeakyReLU(),\n",
    "            nn.Dropout(0.2),\n",
    "            nn.Linear(input_size // 2, output_size),\n",
    "        )\n",
    "    \n",
    "    def initialize_bias_weights(self, y_train):\n",
    "        \"\"\"\n",
    "        Initialize the bias weights of the final linear layer based on the class distribution.\n",
    "\n",
    "        Args:\n",
    "            y_train (torch.Tensor): A tensor of shape (num_samples,) containing the target labels.\n",
    "        \"\"\"\n",
    "        _, class_counts = torch.unique(y_train, return_counts=True)\n",
    "        total_samples = len(y_train)\n",
    "        class_distribution = class_counts.float() / total_samples\n",
    "\n",
    "        # Initialize bias weights for the final linear layer\n",
    "        bias_weights = -torch.log(class_distribution)\n",
    "        self.net[-1].bias.data = bias_weights\n",
    "\n",
    "    def forward(self, X) -> torch.Tensor:\n",
    "        output = self.net(X)\n",
    "        return F.log_softmax(output, dim=1)"
   ]
  },
  {
   "attachments": {},
   "cell_type": "markdown",
   "metadata": {},
   "source": [
    "### Read from file"
   ]
  },
  {
   "cell_type": "code",
   "execution_count": 7,
   "metadata": {},
   "outputs": [],
   "source": [
    "# Read dictionary pkl file\n",
    "with open(os.path.join(\"..\", \"data\", \"processed_files\", \"pkls\", \"X_FR_RUS_ROS_lstm.pkl\"), \"rb\") as fp:\n",
    "    X = pickle.load(fp)\n",
    "\n",
    "with open(os.path.join(\"..\", \"data\", \"processed_files\", \"pkls\", \"y_FR_RUS_ROS_lstm.pkl\"), \"rb\") as fp:\n",
    "    y = pickle.load(fp)"
   ]
  },
  {
   "cell_type": "code",
   "execution_count": 5,
   "metadata": {},
   "outputs": [],
   "source": [
    "# initilize data module\n",
    "dm = CroplandDataModule_MLP(X=X, y=y, batch_size=256)\n",
    "\n",
    "# initilize model\n",
    "warnings.filterwarnings(\"ignore\")\n",
    "torch.manual_seed(123)\n",
    "random.seed(123)\n",
    "\n",
    "network = Crop_MLP()\n",
    "# network.initialize_bias_weights(dm.y_train.argmax(dim=1))\n",
    "model = Crop_PL(net=network)\n",
    "\n",
    "# initilize trainer\n",
    "early_stop_callback = EarlyStopping(\n",
    "    monitor=\"val/loss\", min_delta=1e-4, patience=20, verbose=True, mode=\"min\"\n",
    ")\n",
    "lr_monitor = LearningRateMonitor(logging_interval=\"epoch\")\n"
   ]
  },
  {
   "cell_type": "code",
   "execution_count": null,
   "metadata": {},
   "outputs": [],
   "source": [
    "trainer = pl.Trainer(\n",
    "    max_epochs=500,\n",
    "    accelerator='gpu',\n",
    "    precision=16,\n",
    "    devices=[3],\n",
    "    benchmark=True,\n",
    "    check_val_every_n_epoch=1,\n",
    "    callbacks=[early_stop_callback, lr_monitor],\n",
    ")\n",
    "trainer.fit(model, dm)\n"
   ]
  },
  {
   "cell_type": "code",
   "execution_count": null,
   "metadata": {},
   "outputs": [],
   "source": [
    "from src.model_utils import custom_multiclass_report\n",
    "\n",
    "# check metrics\n",
    "predictions = torch.cat(trainer.predict(model, DataLoader(dm.X_test, batch_size=2048)), dim=0)\n",
    "softmax = nn.Softmax(dim=1)\n",
    "yprob = softmax(predictions.float())\n",
    "ypred = torch.argmax(yprob, 1)\n",
    "ytest = torch.argmax(dm.y_test, 1).cpu().numpy()\n",
    "\n",
    "\n",
    "print(custom_multiclass_report(ytest, ypred, yprob))"
   ]
  },
  {
   "cell_type": "code",
   "execution_count": null,
   "metadata": {},
   "outputs": [],
   "source": [
    "# Save the module to a file\n",
    "torch.save(model, 'lightning_logs/version_100/my_module.pth')"
   ]
  }
 ],
 "metadata": {
  "kernelspec": {
   "display_name": "wind_env",
   "language": "python",
   "name": "python3"
  },
  "language_info": {
   "codemirror_mode": {
    "name": "ipython",
    "version": 3
   },
   "file_extension": ".py",
   "mimetype": "text/x-python",
   "name": "python",
   "nbconvert_exporter": "python",
   "pygments_lexer": "ipython3",
   "version": "3.10.12"
  },
  "orig_nbformat": 4
 },
 "nbformat": 4,
 "nbformat_minor": 2
}
