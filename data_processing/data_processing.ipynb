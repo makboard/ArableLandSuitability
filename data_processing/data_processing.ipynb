{
 "cells": [
  {
   "cell_type": "code",
   "execution_count": 1,
   "metadata": {},
   "outputs": [],
   "source": [
    "import os\n",
    "import sys\n",
    "\n",
    "sys.path.append(\"..\")\n",
    "\n",
    "from src.dataprocessing import check_dimensions, get_features_data, get_target_data"
   ]
  },
  {
   "cell_type": "markdown",
   "metadata": {},
   "source": [
    "## Defining data folders\n"
   ]
  },
  {
   "cell_type": "code",
   "execution_count": 2,
   "metadata": {},
   "outputs": [],
   "source": [
    "# Michigan is an area of interest in this case, you should replace it for your particular research\n",
    "\n",
    "path_to_target_data = os.path.join(\"..\", \"data\", \"target\")\n",
    "path_to_features = os.path.join(\"..\", \"data\", \"processed_files\", \"tifs\")\n",
    "path_to_elevation = os.path.join(\"..\", \"data\", \"processed_files\", \"tifs\", \"elevation\")\n",
    "\n",
    "initial_data = os.path.join(path_to_features, \"2000_2010\")\n",
    "future_data1 = os.path.join(path_to_features, \"2022_2032\")\n",
    "future_data2 = os.path.join(path_to_features, \"2040_2050\")\n",
    "path_to_npys_data = os.path.join(\"..\", \"data\", \"npys_data\")"
   ]
  },
  {
   "attachments": {},
   "cell_type": "markdown",
   "metadata": {},
   "source": [
    "## stack all data on new axis"
   ]
  },
  {
   "cell_type": "code",
   "execution_count": 3,
   "metadata": {},
   "outputs": [
    {
     "name": "stderr",
     "output_type": "stream",
     "text": [
      "100%|██████████| 11/11 [00:50<00:00,  4.62s/it]\n",
      "100%|██████████| 5/5 [00:37<00:00,  7.47s/it]\n",
      "100%|██████████| 11/11 [00:38<00:00,  3.54s/it]\n",
      "100%|██████████| 11/11 [01:08<00:00,  6.26s/it]\n",
      "100%|██████████| 11/11 [01:09<00:00,  6.27s/it]\n",
      "100%|██████████| 11/11 [01:07<00:00,  6.15s/it]\n",
      "100%|██████████| 11/11 [01:09<00:00,  6.31s/it]\n",
      "100%|██████████| 11/11 [01:12<00:00,  6.58s/it]\n",
      "100%|██████████| 11/11 [01:02<00:00,  5.69s/it]\n",
      "100%|██████████| 11/11 [01:19<00:00,  7.19s/it]\n",
      "100%|██████████| 11/11 [02:09<00:00, 11.76s/it]\n",
      "100%|██████████| 11/11 [05:35<00:00, 30.53s/it]\n",
      "100%|██████████| 11/11 [01:14<00:00,  6.80s/it]\n",
      "100%|██████████| 11/11 [01:14<00:00,  6.77s/it]\n",
      "100%|██████████| 11/11 [01:08<00:00,  6.27s/it]\n",
      "100%|██████████| 11/11 [01:02<00:00,  5.71s/it]\n",
      "100%|██████████| 11/11 [01:03<00:00,  5.74s/it]\n",
      "100%|██████████| 11/11 [01:08<00:00,  6.25s/it]\n",
      "100%|██████████| 11/11 [03:07<00:00, 17.01s/it]\n",
      "100%|██████████| 11/11 [01:24<00:00,  7.65s/it]\n"
     ]
    }
   ],
   "source": [
    "# Features initial\n",
    "path_to_raw_features_data = {\n",
    "    \"initial_data\": initial_data,\n",
    "    \"morf_data\": path_to_elevation,\n",
    "}\n",
    "\n",
    "get_features_data(path_to_raw_features_data, path_to_npys_data)\n",
    "\n",
    "# Features future 2020-2030\n",
    "path_furure1_features_data = {\n",
    "    \"ssp126_CMCC\": os.path.join(future_data1, \"ssp126\", \"CMCC\"),\n",
    "    \"ssp126_CNRM\": os.path.join(future_data1, \"ssp126\", \"CNRM\"),\n",
    "    \"ssp126_MRI\": os.path.join(future_data1, \"ssp126\", \"MRI\"),\n",
    "    \"ssp245_CMCC\": os.path.join(future_data1, \"ssp245\", \"CMCC\"),\n",
    "    \"ssp245_CNRM\": os.path.join(future_data1, \"ssp245\", \"CNRM\"),\n",
    "    \"ssp245_MRI\": os.path.join(future_data1, \"ssp245\", \"MRI\"),\n",
    "    \"ssp585_CMCC\": os.path.join(future_data1, \"ssp585\", \"CMCC\"),\n",
    "    \"ssp585_CNRM\": os.path.join(future_data1, \"ssp585\", \"CNRM\"),\n",
    "    \"ssp585_MRI\": os.path.join(future_data1, \"ssp585\", \"MRI\"),\n",
    "}\n",
    "\n",
    "get_features_data(\n",
    "    path_furure1_features_data, os.path.join(path_to_npys_data, \"2020_2030\")\n",
    ")\n",
    "\n",
    "# Features future 2040-2050\n",
    "path_furure2_features_data = {\n",
    "    \"ssp126_CMCC\": os.path.join(future_data2, \"ssp126\", \"CMCC\"),\n",
    "    \"ssp126_CNRM\": os.path.join(future_data2, \"ssp126\", \"CNRM\"),\n",
    "    \"ssp126_MRI\": os.path.join(future_data2, \"ssp126\", \"MRI\"),\n",
    "    \"ssp245_CMCC\": os.path.join(future_data2, \"ssp245\", \"CMCC\"),\n",
    "    \"ssp245_CNRM\": os.path.join(future_data2, \"ssp245\", \"CNRM\"),\n",
    "    \"ssp245_MRI\": os.path.join(future_data2, \"ssp245\", \"MRI\"),\n",
    "    \"ssp585_CMCC\": os.path.join(future_data2, \"ssp585\", \"CMCC\"),\n",
    "    \"ssp585_CNRM\": os.path.join(future_data2, \"ssp585\", \"CNRM\"),\n",
    "    \"ssp585_MRI\": os.path.join(future_data2, \"ssp585\", \"MRI\"),\n",
    "}\n",
    "\n",
    "get_features_data(\n",
    "    path_furure2_features_data, os.path.join(path_to_npys_data, \"2040_2050\")\n",
    ")"
   ]
  },
  {
   "cell_type": "code",
   "execution_count": 4,
   "metadata": {},
   "outputs": [],
   "source": [
    "# Target variable\n",
    "path_to_raw_target_data = os.path.join(path_to_target_data, \"target_croplands.tif\")\n",
    "path_to_processed_target_data_arable = os.path.join(\n",
    "    path_to_npys_data, \"target_croplands.npy\"\n",
    ")\n",
    "\n",
    "get_target_data(path_to_raw_target_data, path_to_processed_target_data_arable)"
   ]
  },
  {
   "cell_type": "code",
   "execution_count": 5,
   "metadata": {},
   "outputs": [
    {
     "name": "stdout",
     "output_type": "stream",
     "text": [
      "Ok!\n"
     ]
    }
   ],
   "source": [
    "# Checking dimensions:\n",
    "check_dimensions(\n",
    "    os.path.join(path_to_npys_data, \"features_initial_data.npy\"),\n",
    "    path_to_processed_target_data_arable,\n",
    ")"
   ]
  }
 ],
 "metadata": {
  "kernelspec": {
   "display_name": "wind_env",
   "language": "python",
   "name": "python3"
  },
  "language_info": {
   "codemirror_mode": {
    "name": "ipython",
    "version": 3
   },
   "file_extension": ".py",
   "mimetype": "text/x-python",
   "name": "python",
   "nbconvert_exporter": "python",
   "pygments_lexer": "ipython3",
   "version": "3.10.12"
  },
  "orig_nbformat": 4,
  "vscode": {
   "interpreter": {
    "hash": "0982ccb5d250a965ecd737cb1e75812ccdb071f2e8e240124f69d64492728576"
   }
  }
 },
 "nbformat": 4,
 "nbformat_minor": 2
}
