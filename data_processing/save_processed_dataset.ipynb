{
 "cells": [
  {
   "cell_type": "code",
   "execution_count": 1,
   "metadata": {},
   "outputs": [],
   "source": [
    "import os\n",
    "import pickle\n",
    "import sys\n",
    "\n",
    "import joblib\n",
    "import numpy as np\n",
    "import pandas as pd\n",
    "import torch\n",
    "from sklearn.preprocessing import OneHotEncoder\n",
    "\n",
    "sys.path.append(\"..\")\n",
    "\n",
    "from sklearn.model_selection import train_test_split\n",
    "from sklearn.preprocessing import MinMaxScaler\n",
    "\n",
    "from src.model_utils import downsample, reshape_data\n",
    "from src.dataprocessing import get_class_distribution"
   ]
  },
  {
   "cell_type": "markdown",
   "metadata": {},
   "source": [
    "## Paths to data"
   ]
  },
  {
   "cell_type": "code",
   "execution_count": 2,
   "metadata": {},
   "outputs": [],
   "source": [
    "# defining paths\n",
    "path_to_npys_data = os.path.join(\"..\", \"data\", \"npys_data\")\n",
    "\n",
    "pathTarget_3 = os.path.join(os.path.join(path_to_npys_data, \"target_croplands.npy\"))\n",
    "pathFeatures = os.path.join(path_to_npys_data, \"features_initial_data.npy\")\n",
    "pathMorf = os.path.join(path_to_npys_data, \"features_morf_data.npy\")"
   ]
  },
  {
   "cell_type": "markdown",
   "metadata": {},
   "source": [
    "##  Data"
   ]
  },
  {
   "cell_type": "code",
   "execution_count": 3,
   "metadata": {},
   "outputs": [],
   "source": [
    "# Features\n",
    "X = pd.DataFrame.from_dict(np.load(pathFeatures, allow_pickle=True), orient=\"columns\")\n",
    "morf = pd.DataFrame.from_dict(np.load(pathMorf, allow_pickle=True), orient=\"columns\")\n",
    "X = pd.concat([X, morf], axis=1)\n",
    "keys = list(X.keys())\n",
    "\n",
    "with open(os.path.join(\"..\", \"data\", \"processed_files\", \"pkls\", \"keys.pkl\"), \"wb\") as file:\n",
    "    pickle.dump(keys, file)\n",
    "\n",
    "# Target Variable\n",
    "y = pd.DataFrame.from_dict(np.load(pathTarget_3, allow_pickle=True), orient=\"columns\")\n",
    "y = y[\"Target\"].astype(int).to_numpy()"
   ]
  },
  {
   "cell_type": "code",
   "execution_count": 4,
   "metadata": {},
   "outputs": [],
   "source": [
    "# Set classes 4,5 to 0\n",
    "y = np.where(y > 3, 0, y)"
   ]
  },
  {
   "cell_type": "markdown",
   "metadata": {},
   "source": [
    "## Data Description"
   ]
  },
  {
   "cell_type": "code",
   "execution_count": 5,
   "metadata": {},
   "outputs": [
    {
     "name": "stdout",
     "output_type": "stream",
     "text": [
      "<class 'pandas.core.frame.DataFrame'>\n",
      "RangeIndex: 13638352 entries, 0 to 13638351\n",
      "Columns: 162 entries, sfcWindmax_M1 to morf_33_10\n",
      "dtypes: float64(162)\n",
      "memory usage: 16.5 GB\n"
     ]
    }
   ],
   "source": [
    "X.info()"
   ]
  },
  {
   "cell_type": "code",
   "execution_count": 6,
   "metadata": {},
   "outputs": [
    {
     "data": {
      "text/html": [
       "<div>\n",
       "<style scoped>\n",
       "    .dataframe tbody tr th:only-of-type {\n",
       "        vertical-align: middle;\n",
       "    }\n",
       "\n",
       "    .dataframe tbody tr th {\n",
       "        vertical-align: top;\n",
       "    }\n",
       "\n",
       "    .dataframe thead th {\n",
       "        text-align: right;\n",
       "    }\n",
       "</style>\n",
       "<table border=\"1\" class=\"dataframe\">\n",
       "  <thead>\n",
       "    <tr style=\"text-align: right;\">\n",
       "      <th></th>\n",
       "      <th>sfcWindmax_M1</th>\n",
       "      <th>sfcWindmax_M2</th>\n",
       "      <th>sfcWindmax_M3</th>\n",
       "      <th>sfcWindmax_M4</th>\n",
       "      <th>sfcWindmax_M5</th>\n",
       "      <th>sfcWindmax_M6</th>\n",
       "      <th>sfcWindmax_M7</th>\n",
       "      <th>sfcWindmax_M8</th>\n",
       "      <th>sfcWindmax_M9</th>\n",
       "      <th>sfcWindmax_M10</th>\n",
       "      <th>...</th>\n",
       "      <th>morf_33_1</th>\n",
       "      <th>morf_33_2</th>\n",
       "      <th>morf_33_3</th>\n",
       "      <th>morf_33_4</th>\n",
       "      <th>morf_33_5</th>\n",
       "      <th>morf_33_6</th>\n",
       "      <th>morf_33_7</th>\n",
       "      <th>morf_33_8</th>\n",
       "      <th>morf_33_9</th>\n",
       "      <th>morf_33_10</th>\n",
       "    </tr>\n",
       "  </thead>\n",
       "  <tbody>\n",
       "    <tr>\n",
       "      <th>0</th>\n",
       "      <td>1.3</td>\n",
       "      <td>1.1</td>\n",
       "      <td>1.0</td>\n",
       "      <td>1.5</td>\n",
       "      <td>1.8</td>\n",
       "      <td>1.2</td>\n",
       "      <td>1.8</td>\n",
       "      <td>1.3</td>\n",
       "      <td>2.0</td>\n",
       "      <td>1.2</td>\n",
       "      <td>...</td>\n",
       "      <td>0.500770</td>\n",
       "      <td>177.346313</td>\n",
       "      <td>0.707366</td>\n",
       "      <td>0.000439</td>\n",
       "      <td>0.207605</td>\n",
       "      <td>0.062292</td>\n",
       "      <td>-0.257171</td>\n",
       "      <td>-0.257601</td>\n",
       "      <td>0.062723</td>\n",
       "      <td>0.713253</td>\n",
       "    </tr>\n",
       "    <tr>\n",
       "      <th>1</th>\n",
       "      <td>1.3</td>\n",
       "      <td>1.1</td>\n",
       "      <td>1.0</td>\n",
       "      <td>1.5</td>\n",
       "      <td>1.8</td>\n",
       "      <td>1.2</td>\n",
       "      <td>1.8</td>\n",
       "      <td>1.3</td>\n",
       "      <td>2.0</td>\n",
       "      <td>1.2</td>\n",
       "      <td>...</td>\n",
       "      <td>0.505880</td>\n",
       "      <td>172.595993</td>\n",
       "      <td>0.707884</td>\n",
       "      <td>0.000409</td>\n",
       "      <td>0.201472</td>\n",
       "      <td>0.057969</td>\n",
       "      <td>-0.252120</td>\n",
       "      <td>-0.256513</td>\n",
       "      <td>0.062362</td>\n",
       "      <td>0.713270</td>\n",
       "    </tr>\n",
       "    <tr>\n",
       "      <th>2</th>\n",
       "      <td>1.3</td>\n",
       "      <td>1.1</td>\n",
       "      <td>1.0</td>\n",
       "      <td>1.5</td>\n",
       "      <td>1.8</td>\n",
       "      <td>1.2</td>\n",
       "      <td>1.8</td>\n",
       "      <td>1.3</td>\n",
       "      <td>2.0</td>\n",
       "      <td>1.2</td>\n",
       "      <td>...</td>\n",
       "      <td>0.554733</td>\n",
       "      <td>164.047455</td>\n",
       "      <td>0.708955</td>\n",
       "      <td>0.000276</td>\n",
       "      <td>0.169685</td>\n",
       "      <td>0.039095</td>\n",
       "      <td>-0.232850</td>\n",
       "      <td>-0.254409</td>\n",
       "      <td>0.060654</td>\n",
       "      <td>0.713656</td>\n",
       "    </tr>\n",
       "    <tr>\n",
       "      <th>3</th>\n",
       "      <td>1.3</td>\n",
       "      <td>1.1</td>\n",
       "      <td>1.0</td>\n",
       "      <td>1.5</td>\n",
       "      <td>1.8</td>\n",
       "      <td>1.2</td>\n",
       "      <td>1.8</td>\n",
       "      <td>1.3</td>\n",
       "      <td>2.0</td>\n",
       "      <td>1.2</td>\n",
       "      <td>...</td>\n",
       "      <td>0.630440</td>\n",
       "      <td>159.827286</td>\n",
       "      <td>0.709747</td>\n",
       "      <td>0.000169</td>\n",
       "      <td>0.140592</td>\n",
       "      <td>0.023969</td>\n",
       "      <td>-0.219259</td>\n",
       "      <td>-0.253394</td>\n",
       "      <td>0.058104</td>\n",
       "      <td>0.714367</td>\n",
       "    </tr>\n",
       "    <tr>\n",
       "      <th>4</th>\n",
       "      <td>1.3</td>\n",
       "      <td>1.1</td>\n",
       "      <td>1.0</td>\n",
       "      <td>1.5</td>\n",
       "      <td>1.8</td>\n",
       "      <td>1.2</td>\n",
       "      <td>1.8</td>\n",
       "      <td>1.3</td>\n",
       "      <td>2.0</td>\n",
       "      <td>1.2</td>\n",
       "      <td>...</td>\n",
       "      <td>0.731494</td>\n",
       "      <td>159.067596</td>\n",
       "      <td>0.710274</td>\n",
       "      <td>0.000134</td>\n",
       "      <td>0.119920</td>\n",
       "      <td>0.019065</td>\n",
       "      <td>-0.216999</td>\n",
       "      <td>-0.253654</td>\n",
       "      <td>0.055720</td>\n",
       "      <td>0.715481</td>\n",
       "    </tr>\n",
       "  </tbody>\n",
       "</table>\n",
       "<p>5 rows × 162 columns</p>\n",
       "</div>"
      ],
      "text/plain": [
       "   sfcWindmax_M1  sfcWindmax_M2  sfcWindmax_M3  sfcWindmax_M4  sfcWindmax_M5  \\\n",
       "0            1.3            1.1            1.0            1.5            1.8   \n",
       "1            1.3            1.1            1.0            1.5            1.8   \n",
       "2            1.3            1.1            1.0            1.5            1.8   \n",
       "3            1.3            1.1            1.0            1.5            1.8   \n",
       "4            1.3            1.1            1.0            1.5            1.8   \n",
       "\n",
       "   sfcWindmax_M6  sfcWindmax_M7  sfcWindmax_M8  sfcWindmax_M9  sfcWindmax_M10  \\\n",
       "0            1.2            1.8            1.3            2.0             1.2   \n",
       "1            1.2            1.8            1.3            2.0             1.2   \n",
       "2            1.2            1.8            1.3            2.0             1.2   \n",
       "3            1.2            1.8            1.3            2.0             1.2   \n",
       "4            1.2            1.8            1.3            2.0             1.2   \n",
       "\n",
       "   ...  morf_33_1   morf_33_2  morf_33_3  morf_33_4  morf_33_5  morf_33_6  \\\n",
       "0  ...   0.500770  177.346313   0.707366   0.000439   0.207605   0.062292   \n",
       "1  ...   0.505880  172.595993   0.707884   0.000409   0.201472   0.057969   \n",
       "2  ...   0.554733  164.047455   0.708955   0.000276   0.169685   0.039095   \n",
       "3  ...   0.630440  159.827286   0.709747   0.000169   0.140592   0.023969   \n",
       "4  ...   0.731494  159.067596   0.710274   0.000134   0.119920   0.019065   \n",
       "\n",
       "   morf_33_7  morf_33_8  morf_33_9  morf_33_10  \n",
       "0  -0.257171  -0.257601   0.062723    0.713253  \n",
       "1  -0.252120  -0.256513   0.062362    0.713270  \n",
       "2  -0.232850  -0.254409   0.060654    0.713656  \n",
       "3  -0.219259  -0.253394   0.058104    0.714367  \n",
       "4  -0.216999  -0.253654   0.055720    0.715481  \n",
       "\n",
       "[5 rows x 162 columns]"
      ]
     },
     "execution_count": 6,
     "metadata": {},
     "output_type": "execute_result"
    }
   ],
   "source": [
    "X.head()"
   ]
  },
  {
   "cell_type": "markdown",
   "metadata": {},
   "source": [
    "## Data Preparation \n"
   ]
  },
  {
   "cell_type": "markdown",
   "metadata": {},
   "source": [
    "### Target one hot encoding and Train/test split"
   ]
  },
  {
   "cell_type": "code",
   "execution_count": 7,
   "metadata": {},
   "outputs": [
    {
     "name": "stdout",
     "output_type": "stream",
     "text": [
      "X_train shape: (10910681, 162)\n",
      "X_val shape: (1363836, 162)\n",
      "X_test shape: (1363835, 162)\n"
     ]
    }
   ],
   "source": [
    "# One-hot encode target\n",
    "y = pd.DataFrame(y, columns=[\"Target\"])\n",
    "ohe = OneHotEncoder(handle_unknown=\"ignore\", sparse=False).fit(y)\n",
    "y = ohe.transform(y)\n",
    "\n",
    "# Train/test split\n",
    "X_train, X_test, y_train, y_test = train_test_split(\n",
    "    X, y, test_size=0.20, stratify=y, random_state=123\n",
    ")\n",
    "X_test, X_val, y_test, y_val = train_test_split(\n",
    "    X_test, y_test, test_size=0.5, stratify=y_test, random_state=123\n",
    ")\n",
    "\n",
    "# Normalization\n",
    "scaler = MinMaxScaler().fit(X_train)\n",
    "joblib.dump(scaler, os.path.join(path_to_npys_data, \"scaler.save\"))\n",
    "X_train = scaler.transform(X_train)\n",
    "X_test = scaler.transform(X_test)\n",
    "X_val = scaler.transform(X_val)\n",
    "\n",
    "X = dict()\n",
    "y = dict()\n",
    "\n",
    "print(\"X_train shape:\", X_train.shape)\n",
    "print(\"X_val shape:\", X_val.shape)\n",
    "print(\"X_test shape:\", X_test.shape)"
   ]
  },
  {
   "cell_type": "code",
   "execution_count": 8,
   "metadata": {},
   "outputs": [
    {
     "name": "stdout",
     "output_type": "stream",
     "text": [
      "Class 1: 1.08 %\n",
      "Class 2: 4.30 %\n",
      "Class 3: 8.60 %\n",
      "Class 0: 86.02 %\n"
     ]
    }
   ],
   "source": [
    "# Check Classes distribution\n",
    "get_class_distribution(np.argmax(y_train, 1))"
   ]
  },
  {
   "cell_type": "code",
   "execution_count": 9,
   "metadata": {},
   "outputs": [
    {
     "name": "stdout",
     "output_type": "stream",
     "text": [
      "Initial data:\n",
      "[(0, 9385847), (3, 938562), (2, 468913), (1, 117359)]\n",
      "Resampled data:\n",
      "[(0, 938562), (3, 938562), (2, 468913), (1, 117359)]\n",
      "Initial data:\n",
      "[(0, 1173231), (3, 117321), (2, 58614), (1, 14670)]\n",
      "Resampled data:\n",
      "[(0, 117321), (3, 117321), (2, 58614), (1, 14670)]\n"
     ]
    }
   ],
   "source": [
    "# Downsampling Class 0 up to Class 2 and oversampling Class 1\n",
    "X_train, y_train = downsample(X_train, np.argmax(y_train, 1), oversampling=False)\n",
    "X_val, y_val = downsample(X_val, np.argmax(y_val, 1), oversampling=False)"
   ]
  },
  {
   "cell_type": "code",
   "execution_count": 19,
   "metadata": {},
   "outputs": [],
   "source": [
    "X[\"Train\"] = X_train\n",
    "X[\"Val\"] = X_val\n",
    "X[\"Test\"] = X_test\n",
    "y[\"Train\"] = ohe.transform(pd.DataFrame(y_train))\n",
    "y[\"Val\"] = ohe.transform(pd.DataFrame(y_val))\n",
    "y[\"Test\"] = y_test"
   ]
  },
  {
   "cell_type": "code",
   "execution_count": 11,
   "metadata": {},
   "outputs": [],
   "source": [
    "# save dictionary pkl file\n",
    "with open(\n",
    "    os.path.join(\"..\", \"data\", \"processed_files\", \"pkls\", \"X_down.pkl\"), \"wb\"\n",
    ") as fp:\n",
    "    pickle.dump(X, fp)\n",
    "\n",
    "with open(\n",
    "    os.path.join(\"..\", \"data\", \"processed_files\", \"pkls\", \"y_down.pkl\"), \"wb\"\n",
    ") as fp:\n",
    "    pickle.dump(y, fp)"
   ]
  },
  {
   "cell_type": "code",
   "execution_count": 20,
   "metadata": {},
   "outputs": [],
   "source": [
    "X[\"Train\"] = reshape_data(pd.DataFrame(X_train, columns=keys))\n",
    "X[\"Val\"] = reshape_data(pd.DataFrame(X_val, columns=keys))\n",
    "X[\"Test\"] = reshape_data(pd.DataFrame(X_test, columns=keys))"
   ]
  },
  {
   "cell_type": "code",
   "execution_count": null,
   "metadata": {},
   "outputs": [],
   "source": [
    "# save dictionary pkl file\n",
    "with open(\n",
    "    os.path.join(\"..\", \"data\", \"processed_files\", \"pkls\", \"X_down_lstm.pkl\"), \"wb\"\n",
    ") as fp:\n",
    "    pickle.dump(X, fp)\n",
    "\n",
    "with open(\n",
    "    os.path.join(\"..\", \"data\", \"processed_files\", \"pkls\", \"y_down_lstm.pkl\"), \"wb\"\n",
    ") as fp:\n",
    "    pickle.dump(y, fp)"
   ]
  }
 ],
 "metadata": {
  "kernelspec": {
   "display_name": "wind_env",
   "language": "python",
   "name": "python3"
  },
  "language_info": {
   "codemirror_mode": {
    "name": "ipython",
    "version": 3
   },
   "file_extension": ".py",
   "mimetype": "text/x-python",
   "name": "python",
   "nbconvert_exporter": "python",
   "pygments_lexer": "ipython3",
   "version": "3.10.12"
  },
  "orig_nbformat": 4
 },
 "nbformat": 4,
 "nbformat_minor": 2
}
